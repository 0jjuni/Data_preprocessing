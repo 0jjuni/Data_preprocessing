{
 "cells": [
  {
   "cell_type": "code",
   "execution_count": 5,
   "id": "dbcb9806",
   "metadata": {},
   "outputs": [],
   "source": [
    "from sklearn.datasets import load_iris\n",
    "from sklearn.preprocessing import LabelEncoder\n",
    "import pandas as pd\n",
    "import numpy as np"
   ]
  },
  {
   "cell_type": "markdown",
   "id": "6c94ec12",
   "metadata": {},
   "source": [
    "### 데이터 준비"
   ]
  },
  {
   "cell_type": "markdown",
   "id": "583e2793",
   "metadata": {},
   "source": [
    "- sklearn에 내장된 데이터인 iris 데이터를 이용"
   ]
  },
  {
   "cell_type": "code",
   "execution_count": 8,
   "id": "9bc454a5",
   "metadata": {},
   "outputs": [],
   "source": [
    "iris = load_iris()\n",
    "\n",
    "iris_df = pd.DataFrame(iris.data, columns=iris.feature_names)\n",
    "iris_df['species'] = iris.target_names[iris.target]"
   ]
  },
  {
   "cell_type": "markdown",
   "id": "87bcc34b",
   "metadata": {},
   "source": [
    "## 1.사이킷런의 OneHotEncoder 이용"
   ]
  },
  {
   "cell_type": "code",
   "execution_count": 9,
   "id": "d48e4b58",
   "metadata": {},
   "outputs": [
    {
     "name": "stdout",
     "output_type": "stream",
     "text": [
      "[0 0 0 0 0 0 0 0 0 0 0 0 0 0 0 0 0 0 0 0 0 0 0 0 0 0 0 0 0 0 0 0 0 0 0 0 0\n",
      " 0 0 0 0 0 0 0 0 0 0 0 0 0 1 1 1 1 1 1 1 1 1 1 1 1 1 1 1 1 1 1 1 1 1 1 1 1\n",
      " 1 1 1 1 1 1 1 1 1 1 1 1 1 1 1 1 1 1 1 1 1 1 1 1 1 1 2 2 2 2 2 2 2 2 2 2 2\n",
      " 2 2 2 2 2 2 2 2 2 2 2 2 2 2 2 2 2 2 2 2 2 2 2 2 2 2 2 2 2 2 2 2 2 2 2 2 2\n",
      " 2 2]\n"
     ]
    }
   ],
   "source": [
    "encoder= LabelEncoder()\n",
    "labels = encoder.fit_transform(iris_df['species'])\n",
    "print(labels)"
   ]
  },
  {
   "cell_type": "code",
   "execution_count": 6,
   "id": "bcc6f447",
   "metadata": {},
   "outputs": [
    {
     "name": "stdout",
     "output_type": "stream",
     "text": [
      "인코딩 클래스: ['TV' '냉장고' '믹서' '선풍기' '전자렌지' '컴퓨터']\n",
      "디코딩 원본 값: ['전자렌지' '컴퓨터' '믹서' 'TV' '냉장고' '냉장고' '선풍기' '선풍기']\n"
     ]
    }
   ],
   "source": [
    "items=['TV','냉장고','전자렌지','컴퓨터','선풍기','선풍기','믹서','믹서']\n",
    "encoder = LabelEncoder()\n",
    "encoder.fit(items)\n",
    "labels = encoder.transform(items)\n",
    "#fit과 transform은 아래와 같이 한번에 쓸 수 있다.\n",
    "##encoder.fit_transform(items)\n",
    "\n",
    "#만약 인코딩 클래스를 보고싶다면\n",
    "print('인코딩 클래스:',encoder.classes_)\n",
    "\n",
    "#디코딩 원본값을 보고싶다\n",
    "print('디코딩 원본 값:',encoder.inverse_transform([4, 5, 2, 0, 1, 1, 3, 3]))"
   ]
  },
  {
   "cell_type": "code",
   "execution_count": 4,
   "id": "cc5f5238",
   "metadata": {},
   "outputs": [
    {
     "name": "stdout",
     "output_type": "stream",
     "text": [
      "[0 1 0 2]\n",
      "['apple' 'banana' 'orange']\n"
     ]
    }
   ],
   "source": [
    "import pandas as pd\n",
    "\n",
    "data = ['apple', 'banana', 'apple', 'orange']\n",
    "labels, unique = pd.factorize(data)\n",
    "print(labels)\n",
    "print(unique)"
   ]
  },
  {
   "cell_type": "markdown",
   "id": "83bfbbaf",
   "metadata": {},
   "source": [
    "## 반환값\n",
    "- labels: 배열 형태로, 원본 데이터의 각 항목에 대해 할당된 정수 인덱스가 포함됩니다. 이 인덱스는 고유 값들의 등장 순서에 따라 0부터 시작하여 할당됩니다.\n",
    "- unique: 원본 데이터에서 발견된 고유한 값들의 리스트로, labels 배열에 할당된 정수 인덱스와 일치하는 순서로 나열됩니다.\n",
    "## 주요 특징\n",
    "- 속도와 효율성: 대규모 데이터셋을 빠르고 효율적으로 처리할 수 있습니다.\n",
    "- 결측치 처리: factorize는 자동으로 결측치를 처리합니다. 결측치는 -1의 레이블을 받으며, 이는 다른 유효한 데이터와 구분됩니다.\n",
    "- 커스터마이징 가능: sort 매개변수를 통해 고유 값들을 정렬하여 레이블을 할당할 수 있으며, na_sentinel 매개변수를 사용해 결측치에 할당되는 정수를 변경할 수 있습니다."
   ]
  },
  {
   "cell_type": "code",
   "execution_count": null,
   "id": "8ead730e",
   "metadata": {},
   "outputs": [],
   "source": []
  }
 ],
 "metadata": {
  "kernelspec": {
   "display_name": "Python 3 (ipykernel)",
   "language": "python",
   "name": "python3"
  },
  "language_info": {
   "codemirror_mode": {
    "name": "ipython",
    "version": 3
   },
   "file_extension": ".py",
   "mimetype": "text/x-python",
   "name": "python",
   "nbconvert_exporter": "python",
   "pygments_lexer": "ipython3",
   "version": "3.11.5"
  }
 },
 "nbformat": 4,
 "nbformat_minor": 5
}
